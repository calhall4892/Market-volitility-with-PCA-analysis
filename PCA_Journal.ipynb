{
  "nbformat": 4,
  "nbformat_minor": 0,
  "metadata": {
    "colab": {
      "provenance": [],
      "authorship_tag": "ABX9TyNGQ0JFTpkhhlSintNsWMnS"
    },
    "kernelspec": {
      "name": "python3",
      "display_name": "Python 3"
    },
    "language_info": {
      "name": "python"
    }
  },
  "cells": [
    {
      "cell_type": "markdown",
      "source": [
        "# Principal Component Analysis\n",
        "\n",
        "## Introduction\n",
        "\n",
        "Principal Component Analysis  (PCA) is a form of unsupervised learning that looks to use Singular Value Decomposition (SVD) to reduce the number of dimensions while maintaining data integerity.\n",
        "\n",
        "## What is SVD?\n",
        "\n",
        "Singular Value Decomposition (SVD) is a method of matrix decomposition."
      ],
      "metadata": {
        "id": "dDorvJUT_8HT"
      }
    }
  ]
}